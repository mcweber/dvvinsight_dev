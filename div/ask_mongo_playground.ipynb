{
 "cells": [
  {
   "cell_type": "code",
   "execution_count": 27,
   "metadata": {},
   "outputs": [],
   "source": [
    "import os\n",
    "from pprint import pprint\n",
    "import torch\n",
    "from transformers import BertTokenizer, BertModel\n",
    "\n",
    "# Load pre-trained model and tokenizer\n",
    "os.environ[\"TOKENIZERS_PARALLELISM\"] = \"false\"\n",
    "model_name = \"bert-base-german-cased\" # 768 dimensions\n",
    "tokenizer = BertTokenizer.from_pretrained(model_name)\n",
    "model = BertModel.from_pretrained(model_name)"
   ]
  },
  {
   "cell_type": "code",
   "execution_count": 28,
   "metadata": {},
   "outputs": [],
   "source": [
    "# text = \"\"\"\n",
    "# Martin verfügt bereits in seinem jugendlichen Alter von siebzehn Jahren über ein erhebliches Geldvermögen auf seinem Bankkonto und interessiert sich sehr für wirtschaftliche Sachverhalte. Angesichts der Niedrigzinsphase beschließt er, sein Vermögen in Immobilien zu investieren. Dabei ist er besonders an einem vielversprechenden Grundstück der Witwe Victoria in Nandlstadt interessiert, das einen Wert von € 500.000 aufweist. Martin nimmt daher Vertragsverhandlungen mit Victoria auf. Bei diesen ist stets auch Victorias Neffe Berthold anwesend; zu Beginn der Verhandlungen erklärt Berthold im Beisein von Martin, dass er über eine „jahrzehntelange Erfahrung im Immobiliengeschäft“ verfüge und diese einbringen möchte, um für einen „wasserdichten Vertragsschluss“ zu sorgen. Victoria hatte den Berthold zu den Verhandlungen hinzugezogen und ihn gebeten, auf einen für sie möglichst günstigen Vertragsschluss hinzuwirken.\n",
    "# Nachdem Martin und Victoria über einen Kaufpreis von € 500.000 einig geworden sind, unterzeichnen beide Teile ein von Berthold privatschriftlich aufgesetztes Vertragsdokument. Auf Martins Nachfrage hin, ob damit alles erledigt sei, antwortet der an diesem Tag ziemlich zerstreute Berthold, dass der Vertrag so „schon in Ordnung“ gehe. Martin ist angesichts der Bedeutung des Vertrags verwundert, immerhin gehe es doch um ein Grundstück; er glaubt dem Berthold aber, nachdem dieser erneut auf seine besondere Expertise hingewiesen hat.\n",
    "# In den folgenden Wochen verändern sich die wirtschaftlichen Rahmenbedingungen in Nandlstadt stark zum Positiven, so dass es zu einem unverhofften Anstieg der Grundstückswerte kommt. Victorias Grundstück ist nunmehr € 530.000 wert. Daher meldet Victoria sich noch vor Auflassung und Eintragung bei Martin und meint, sie wolle mit dem Verkauf nichts mehr zu tun haben, den Vertrag betrachte sie aus mehreren Gründen als hinfällig. Martin entgegnet, er habe keine Fehler gemacht, sondern sich nur auf die Aussagen des Berthold verlassen. Ohne dessen Zerstreutheit hätten Victoria und Martin die notwendigen Maßnahmen eingeleitet, um einen formwirksamen Vertragsschluss zu erreichen. dies wird von Victoria auch gar nicht bestritten. Martin möchte daher nun Eigentümer des Grundstücks werden, in jedem Fall stehe ihm aber der Wertzuwachs zu.\n",
    "# Inzwischen haben Martins Eltern vom Alleingang ihres Sohnes Wind bekommen und sind entsetzt. Sie erklären, dass sie aus erzieherischen Gründen mit Martins eigensinnigen Machenschaften keinesfalls einverstanden sind.\n",
    "# \"\"\"\n",
    "\n",
    "#text = \"Martin Weber ist ein sehr guter Anwalt.\"\n",
    "text = \"Martin\""
   ]
  },
  {
   "cell_type": "code",
   "execution_count": 29,
   "metadata": {},
   "outputs": [],
   "source": [
    "def create_embeddings(text: str) -> list:\n",
    "    encoded_input = tokenizer(text, padding=True, truncation=True, return_tensors=\"pt\")\n",
    "    with torch.no_grad():\n",
    "        model_output = model(**encoded_input)\n",
    "    return model_output.last_hidden_state.mean(dim=1).squeeze().tolist()"
   ]
  },
  {
   "cell_type": "code",
   "execution_count": null,
   "metadata": {},
   "outputs": [],
   "source": [
    "encoded_input = tokenizer(text, padding=True, truncation=True, return_tensors=\"pt\")\n",
    "with torch.no_grad():\n",
    "    model_output = model(**encoded_input)\n",
    "embeddings = model_output.last_hidden_state.mean(dim=1).squeeze().tolist()\n",
    "\n",
    "pprint(encoded_input)\n",
    "pprint(len(emb))\n",
    "pprint(emb)\n"
   ]
  }
 ],
 "metadata": {
  "kernelspec": {
   "display_name": "myenv",
   "language": "python",
   "name": "python3"
  },
  "language_info": {
   "codemirror_mode": {
    "name": "ipython",
    "version": 3
   },
   "file_extension": ".py",
   "mimetype": "text/x-python",
   "name": "python",
   "nbconvert_exporter": "python",
   "pygments_lexer": "ipython3",
   "version": "3.12.3"
  }
 },
 "nbformat": 4,
 "nbformat_minor": 2
}
