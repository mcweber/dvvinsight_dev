{
 "cells": [
  {
   "cell_type": "markdown",
   "metadata": {},
   "source": [
    "## Import PMG XML to Dataframe"
   ]
  },
  {
   "cell_type": "code",
   "execution_count": 1,
   "metadata": {},
   "outputs": [],
   "source": [
    "# %pip install lxml\n",
    "import pandas as pd\n",
    "# import numpy as np\n",
    "from lxml import etree\n"
   ]
  },
  {
   "cell_type": "code",
   "execution_count": 2,
   "metadata": {},
   "outputs": [
    {
     "name": "stdout",
     "output_type": "stream",
     "text": [
      "Current working directory: /Users/mweber/dev/chatdvv\n",
      "Inserted 3398 files\n"
     ]
    }
   ],
   "source": [
    "#import filenames of directory documents/pmg to pandas dataframe\n",
    "\n",
    "import os\n",
    "\n",
    "print(\"Current working directory:\", os.getcwd())\n",
    "path = '~/Dropbox/dev/DVV/dvv_content/pmg/'\n",
    "full_path = os.path.expanduser(path)\n",
    "files = os.listdir(full_path)\n",
    "\n",
    "print(f\"Inserted {len(files)} files\")\n"
   ]
  },
  {
   "cell_type": "code",
   "execution_count": 3,
   "metadata": {},
   "outputs": [],
   "source": [
    "import os\n",
    "from dotenv import load_dotenv\n",
    "\n",
    "from pymongo import MongoClient\n",
    "from bson import ObjectId\n",
    "\n",
    "# Init MongoDB Client\n",
    "load_dotenv()\n",
    "mongoClient = MongoClient(os.environ.get('MONGO_URI_DVV'))\n",
    "database = mongoClient.dvv_content_pool\n",
    "collection = database.dvv_artikel"
   ]
  },
  {
   "cell_type": "code",
   "execution_count": 4,
   "metadata": {},
   "outputs": [
    {
     "name": "stdout",
     "output_type": "stream",
     "text": [
      "Collection(Database(MongoClient(host=['ac-fzhvzuu-shard-00-00.aev3rng.mongodb.net:27017', 'ac-fzhvzuu-shard-00-01.aev3rng.mongodb.net:27017', 'ac-fzhvzuu-shard-00-02.aev3rng.mongodb.net:27017'], document_class=dict, tz_aware=False, connect=True, authsource='admin', replicaset='atlas-gxqdk3-shard-0', tls=True), 'dvv_content_pool'), 'dvv_artikel')\n"
     ]
    }
   ],
   "source": [
    "print(collection)"
   ]
  },
  {
   "cell_type": "code",
   "execution_count": 19,
   "metadata": {},
   "outputs": [
    {
     "name": "stdout",
     "output_type": "stream",
     "text": [
      "xml\n"
     ]
    }
   ],
   "source": [
    "file = \"martin.xml\"\n",
    "print(file[-3:])"
   ]
  },
  {
   "cell_type": "code",
   "execution_count": null,
   "metadata": {},
   "outputs": [
    {
     "name": "stdout",
     "output_type": "stream",
     "text": [
      "Inserted 0 records into DataFrame\n",
      "Series([], dtype: int64)\n"
     ]
    }
   ],
   "source": [
    "#---------------------------------------------\n",
    "# 22.06.2024 added fields quelle_id_embeddings, text_length\n",
    "# 25.10.2024 added schlagworte\n",
    "#---------------------------------------------\n",
    "\n",
    "from datetime import datetime\n",
    "\n",
    "data_collection = []\n",
    "\n",
    "for file in files:\n",
    "\n",
    "    # nsh - no attribute text\n",
    "    # raili - no attribute jahrgang\n",
    "    if file[:3] in [\"nsh\", \"rai\"]:\n",
    "        continue\n",
    "\n",
    "    if file[-3:] != \"xml\":\n",
    "        continue\n",
    "\n",
    "    if collection.find_one({\"dateiname\": file}):\n",
    "        continue\n",
    "\n",
    "    tree = etree.parse(full_path + f'{file}')\n",
    "    root = tree.getroot()\n",
    "\n",
    "    data = []\n",
    "    for elem in root.findall('artikel'):\n",
    "        print(f\"Processing {file} {elem.find('metadaten/artikel-id').text}\")\n",
    "        \n",
    "        # Metadaten auslesen\n",
    "        artikel_id = elem.find('metadaten/artikel-id').text\n",
    "        quelle_id = elem.find('metadaten/quelle/quelle-id').text\n",
    "        jahrgang = elem.find('metadaten/quelle/jahrgang').text\n",
    "        nummer = elem.find('metadaten/quelle/nummer').text\n",
    "        datum = elem.find('metadaten/quelle/datum').text\n",
    "        seite_start = elem.find('metadaten/quelle/seite-start').text\n",
    "        seite_ende = elem.find('metadaten/quelle/seite-ende').text\n",
    "\n",
    "        # Inhalt auslesen\n",
    "        title = elem.find('inhalt/titel-liste/titel').text\n",
    "        if elem.find('inhalt/titel-liste/untertitel') is not None:\n",
    "            untertitel = elem.find('inhalt/titel-liste/untertitel').text\n",
    "        else:\n",
    "            untertitel = \"leer\"\n",
    "        text_struktur = elem.find('inhalt/text')\n",
    "        text_content = \"\".join(text_struktur.itertext())\n",
    "        text_length = len(text_content)\n",
    "\n",
    "        # Felder hinzufügen\n",
    "        ki_abstract = \"\"\n",
    "        date = datetime.strptime(datum, \"%d%m%Y\")\n",
    "        text_embeddings = []\n",
    "        ki_embeddings = []\n",
    "        quelle_id_embeddings = []\n",
    "        schlagworte = []\n",
    "        \n",
    "\n",
    "        # if quelle_id[:3] == \"DVZ\":\n",
    "        data.append([file, artikel_id, quelle_id, jahrgang, nummer, datum, seite_start, seite_ende, title, untertitel, text_content, ki_abstract, date, text_embeddings, ki_embeddings, quelle_id_embeddings, text_length, schlagworte])\n",
    "    \n",
    "    data_collection.extend(data)\n",
    "\n",
    "# read xml file and convert it to a pandas dataframe\n",
    "df = pd.DataFrame(data_collection, columns=['dateiname', 'artikel_id', 'quelle_id', 'jahrgang', 'nummer', 'datum', 'seite_start', 'seite_ende', 'titel', 'untertitel', 'text', 'ki_abstract', 'date', 'text_embeddings', 'ki_embeddings', 'quelle_id_embeddings', 'text_length', 'schlagworte'])\n",
    "# df.head(20)\n",
    "print(f\"Inserted {len(df)} records into DataFrame\")\n",
    "\n",
    "# print list of quelle_id grouped by count sorted by quelle_id\n",
    "print(df.groupby('quelle_id').size().sort_values(ascending=False))\n"
   ]
  },
  {
   "cell_type": "markdown",
   "metadata": {},
   "source": [
    "## MongoDB: Import Articles"
   ]
  },
  {
   "cell_type": "code",
   "execution_count": null,
   "metadata": {},
   "outputs": [],
   "source": [
    "# Insert data into MongoDB usinf insert_many\n",
    "data_input = df.to_dict(orient='records')\n",
    "collection.insert_many(data_input)\n",
    "\n",
    "print(f\"Inserted {len(data_input)} records into MongoDB\")\n",
    "\n",
    "mongoClient.close()"
   ]
  },
  {
   "cell_type": "markdown",
   "metadata": {},
   "source": [
    "## Add embeddings & keywords"
   ]
  },
  {
   "cell_type": "code",
   "execution_count": 1,
   "metadata": {},
   "outputs": [],
   "source": [
    "import os\n",
    "from dotenv import load_dotenv\n",
    "\n",
    "from pymongo import MongoClient\n",
    "from bson import ObjectId\n",
    "\n",
    "# Init MongoDB Client\n",
    "load_dotenv()\n",
    "mongoClient = MongoClient(os.environ.get('MONGO_URI_DVV'))\n",
    "database = mongoClient.dvv_content_pool\n",
    "collection = database.dvv_artikel"
   ]
  },
  {
   "cell_type": "code",
   "execution_count": 6,
   "metadata": {},
   "outputs": [
    {
     "name": "stdout",
     "output_type": "stream",
     "text": [
      "0\n"
     ]
    }
   ],
   "source": [
    "cursor = collection.dvv_artikel.find({'schlagworte': []}).limit(5)\n",
    "cursor_list = list(cursor)\n",
    "print(len(cursor_list))\n",
    "for record in cursor_list:\n",
    "    print(f\"ID: {record['_id']}\")\n"
   ]
  },
  {
   "cell_type": "code",
   "execution_count": null,
   "metadata": {},
   "outputs": [],
   "source": [
    "import ask_mongo\n",
    "# from .autonotebook import tqdm as notebook_tqdm"
   ]
  },
  {
   "cell_type": "code",
   "execution_count": null,
   "metadata": {},
   "outputs": [],
   "source": [
    "# ask_mongo.generate_embeddings(input_field=\"text\", output_field=\"text_embeddings\", max_iterations=50000)\n",
    "ask_mongo.generate_keywords(input_field=\"ki_abstract\", output_field=\"schlagworte\", max_iterations=5)\n",
    "# ask_mongo.generate_entities(input_field=\"ki_abstract\", output_field=\"schlagworte\", max_iterations=10)\n"
   ]
  }
 ],
 "metadata": {
  "kernelspec": {
   "display_name": ".venv",
   "language": "python",
   "name": "python3"
  },
  "language_info": {
   "codemirror_mode": {
    "name": "ipython",
    "version": 3
   },
   "file_extension": ".py",
   "mimetype": "text/x-python",
   "name": "python",
   "nbconvert_exporter": "python",
   "pygments_lexer": "ipython3",
   "version": "3.12.7"
  }
 },
 "nbformat": 4,
 "nbformat_minor": 2
}
