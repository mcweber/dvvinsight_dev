{
 "cells": [
  {
   "cell_type": "code",
   "execution_count": null,
   "metadata": {},
   "outputs": [],
   "source": [
    "import chatdvv_module as chatdvv\n",
    "import pandas as pd\n",
    "import streamlit as st\n",
    "\n",
    "print(\"ChatDVV Server initialisiert.\")"
   ]
  },
  {
   "cell_type": "code",
   "execution_count": null,
   "metadata": {},
   "outputs": [],
   "source": [
    "# print(chatdvv.group_by_field())\n",
    "# print(chatdvv.list_fields())"
   ]
  },
  {
   "cell_type": "code",
   "execution_count": null,
   "metadata": {},
   "outputs": [],
   "source": [
    "results, results_count = chatdvv.text_search(search_text=\"blg\", limit=50)\n",
    "\n",
    "df = pd.DataFrame(results)\n",
    "# print(df)\n",
    "\n",
    "output = df[['quelle_id' , 'datum', 'titel']]\n",
    "print(output)"
   ]
  },
  {
   "cell_type": "code",
   "execution_count": null,
   "metadata": {},
   "outputs": [],
   "source": [
    "LLMS = (\"openai_gpt-4o\", \"groq_whisper-large-v3\", \"groq_mixtral-8x7b-32768\", \"groq_llama3-70b-8192\", \"groq_gemma-7b-it\")\n",
    "\n",
    "LLMS[0]\n"
   ]
  },
  {
   "cell_type": "code",
   "execution_count": null,
   "metadata": {},
   "outputs": [],
   "source": [
    "import anthropic\n",
    "import os\n",
    "\n",
    "api_key = os.getenv(\"ANTHROPIC_API_KEY_DVV\")"
   ]
  },
  {
   "cell_type": "code",
   "execution_count": null,
   "metadata": {},
   "outputs": [],
   "source": [
    "client = anthropic.Anthropic(\n",
    "    # defaults to os.environ.get(\"ANTHROPIC_API_KEY\")\n",
    "    api_key=api_key,\n",
    ")\n",
    "message = client.messages.create(\n",
    "    model=\"claude-3-5-sonnet-20240620\",\n",
    "    max_tokens=1024,\n",
    "    messages=[\n",
    "        {\"role\": \"user\", \"content\": \"Hello, Claude\"}\n",
    "    ]\n",
    ")\n",
    "print(message.content)\n",
    "\n",
    "# print text only\n",
    "print(message.content[0].text)\n",
    "\n",
    "# print(message.content[])"
   ]
  },
  {
   "cell_type": "code",
   "execution_count": null,
   "metadata": {},
   "outputs": [],
   "source": [
    "input_messages = [\n",
    "                {\"role\": \"system\", \"content\": \"systemPrompt\"},\n",
    "                {\"role\": \"user\", \"content\": \"question\"},\n",
    "                {\"role\": \"assistant\", \"content\": 'Hier sind einige relevante Informationen:\\n'},\n",
    "                {\"role\": \"user\", \"content\": 'Basierend auf den oben genannten Informationen, '}\n",
    "                ]\n",
    "\n",
    "print(input_messages[1:])\n"
   ]
  },
  {
   "cell_type": "code",
   "execution_count": null,
   "metadata": {},
   "outputs": [],
   "source": [
    "!pip install tavily-python"
   ]
  },
  {
   "cell_type": "code",
   "execution_count": 3,
   "metadata": {},
   "outputs": [
    {
     "name": "stdout",
     "output_type": "stream",
     "text": [
      "2023-11-28\n"
     ]
    }
   ],
   "source": [
    "import datetime\n",
    "\n",
    "def format_date_pi(date_str: str) -> str:\n",
    "    day = date_str[8:10]\n",
    "    month = date_str[5:7]\n",
    "    year = date_str[:4]\n",
    "    return f\"{year}-{month}-{day}\"\n",
    "\n",
    "date_str = \"2023-11-28T12:31:30Z\"\n",
    "\n",
    "print(format_date_pi(date_str))"
   ]
  },
  {
   "cell_type": "code",
   "execution_count": 11,
   "metadata": {},
   "outputs": [
    {
     "name": "stdout",
     "output_type": "stream",
     "text": [
      "dict_keys(['Alle', 'Logistik', 'Maritim', 'Rail', 'ÖPNV', 'Industrie'])\n",
      "('THB', 'DVZ', 'DVZT', 'THBT', 'DVZMG', 'DVZM', 'DVZ-Brief')\n",
      "1\n",
      "['Alle', 'Logistik', 'Maritim', 'Rail', 'ÖPNV', 'Industrie']\n",
      "dict_keys(['Alle', 'Logistik', 'Maritim', 'Rail', 'ÖPNV', 'Industrie'])\n"
     ]
    }
   ],
   "source": [
    "PUB_LOG = (\"THB\", \"DVZ\", \"DVZT\", \"THBT\", \"DVZMG\", \"DVZM\", \"DVZ-Brief\")\n",
    "PUB_MAR = (\"THB\", \"THBT\", \"SHF\", \"SHIOF\", \"SPI\", \"NSH\")\n",
    "PUB_RAIL = (\"EI\", \"SD\", \"BM\", \"BAMA\")\n",
    "PUB_OEPNV = (\"RABUS\", \"NAHV\", \"NANA\", \"DNV\")\n",
    "PUB_PI = (\"pi_AuD\", \"pi_PuA\", \"pi_EuE\", \"pi_E20\", \"pi_Industry_Forward\", \"pi_Industrial_Solutions\", \"pi_Next_Technology\", \"pi_\")\n",
    "MARKTBEREICHE = {\"Alle\": None, \"Logistik\": PUB_LOG, \"Maritim\": PUB_MAR, \"Rail\": PUB_RAIL, \"ÖPNV\": PUB_OEPNV, \"Industrie\": PUB_PI}\n",
    "MARKTBEREICHE_LISTE = MARKTBEREICHE.keys()\n",
    "\n",
    "print(MARKTBEREICHE_LISTE)\n",
    "print(MARKTBEREICHE[\"Logistik\"])\n",
    "print(list(MARKTBEREICHE_LISTE).index(\"Logistik\"))\n",
    "print(list(MARKTBEREICHE.keys()))\n",
    "print(MARKTBEREICHE.keys())\n"
   ]
  }
 ],
 "metadata": {
  "kernelspec": {
   "display_name": ".venv",
   "language": "python",
   "name": "python3"
  },
  "language_info": {
   "codemirror_mode": {
    "name": "ipython",
    "version": 3
   },
   "file_extension": ".py",
   "mimetype": "text/x-python",
   "name": "python",
   "nbconvert_exporter": "python",
   "pygments_lexer": "ipython3",
   "version": "3.12.7"
  }
 },
 "nbformat": 4,
 "nbformat_minor": 2
}
