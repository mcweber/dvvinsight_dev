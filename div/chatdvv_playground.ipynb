{
 "cells": [
  {
   "cell_type": "code",
   "execution_count": 5,
   "metadata": {},
   "outputs": [
    {
     "name": "stdout",
     "output_type": "stream",
     "text": [
      "ChatDVV Server initialisiert.\n"
     ]
    }
   ],
   "source": [
    "import chatdvv_module as chatdvv\n",
    "import pandas as pd\n",
    "import streamlit as st\n",
    "\n",
    "print(\"ChatDVV Server initialisiert.\")"
   ]
  },
  {
   "cell_type": "code",
   "execution_count": null,
   "metadata": {},
   "outputs": [],
   "source": [
    "# print(chatdvv.group_by_field())\n",
    "# print(chatdvv.list_fields())"
   ]
  },
  {
   "cell_type": "code",
   "execution_count": null,
   "metadata": {},
   "outputs": [],
   "source": [
    "results, results_count = chatdvv.text_search(search_text=\"blg\", limit=50)\n",
    "\n",
    "df = pd.DataFrame(results)\n",
    "# print(df)\n",
    "\n",
    "output = df[['quelle_id' , 'datum', 'titel']]\n",
    "print(output)"
   ]
  },
  {
   "cell_type": "code",
   "execution_count": 2,
   "metadata": {},
   "outputs": [
    {
     "data": {
      "text/plain": [
       "'openai_gpt-4o'"
      ]
     },
     "execution_count": 2,
     "metadata": {},
     "output_type": "execute_result"
    }
   ],
   "source": [
    "LLMS = (\"openai_gpt-4o\", \"groq_whisper-large-v3\", \"groq_mixtral-8x7b-32768\", \"groq_llama3-70b-8192\", \"groq_gemma-7b-it\")\n",
    "\n",
    "LLMS[0]\n"
   ]
  },
  {
   "cell_type": "code",
   "execution_count": null,
   "metadata": {},
   "outputs": [],
   "source": [
    "import anthropic\n",
    "import os\n",
    "\n",
    "api_key = os.getenv(\"ANTHROPIC_API_KEY_DVV\")"
   ]
  },
  {
   "cell_type": "code",
   "execution_count": 20,
   "metadata": {},
   "outputs": [
    {
     "name": "stdout",
     "output_type": "stream",
     "text": [
      "[TextBlock(text=\"Hello! It's nice to meet you. How can I assist you today?\", type='text')]\n",
      "Hello! It's nice to meet you. How can I assist you today?\n"
     ]
    }
   ],
   "source": [
    "client = anthropic.Anthropic(\n",
    "    # defaults to os.environ.get(\"ANTHROPIC_API_KEY\")\n",
    "    api_key=api_key,\n",
    ")\n",
    "message = client.messages.create(\n",
    "    model=\"claude-3-5-sonnet-20240620\",\n",
    "    max_tokens=1024,\n",
    "    messages=[\n",
    "        {\"role\": \"user\", \"content\": \"Hello, Claude\"}\n",
    "    ]\n",
    ")\n",
    "print(message.content)\n",
    "\n",
    "# print text only\n",
    "print(message.content[0].text)\n",
    "\n",
    "# print(message.content[])"
   ]
  },
  {
   "cell_type": "code",
   "execution_count": 2,
   "metadata": {},
   "outputs": [
    {
     "name": "stdout",
     "output_type": "stream",
     "text": [
      "[{'role': 'user', 'content': 'question'}, {'role': 'assistant', 'content': 'Hier sind einige relevante Informationen:\\n'}, {'role': 'user', 'content': 'Basierend auf den oben genannten Informationen, '}]\n"
     ]
    }
   ],
   "source": [
    "input_messages = [\n",
    "                {\"role\": \"system\", \"content\": \"systemPrompt\"},\n",
    "                {\"role\": \"user\", \"content\": \"question\"},\n",
    "                {\"role\": \"assistant\", \"content\": 'Hier sind einige relevante Informationen:\\n'},\n",
    "                {\"role\": \"user\", \"content\": 'Basierend auf den oben genannten Informationen, '}\n",
    "                ]\n",
    "\n",
    "print(input_messages[1:])\n"
   ]
  },
  {
   "cell_type": "code",
   "execution_count": 6,
   "metadata": {},
   "outputs": [
    {
     "name": "stdout",
     "output_type": "stream",
     "text": [
      "Requirement already satisfied: tavily-python in /opt/homebrew/Caskroom/miniconda/base/envs/chatdvv/lib/python3.10/site-packages (0.3.3)\n",
      "Requirement already satisfied: requests in /opt/homebrew/Caskroom/miniconda/base/envs/chatdvv/lib/python3.10/site-packages (from tavily-python) (2.31.0)\n",
      "Requirement already satisfied: tiktoken<1,>=0.5.2 in /opt/homebrew/Caskroom/miniconda/base/envs/chatdvv/lib/python3.10/site-packages (from tavily-python) (0.7.0)\n",
      "Requirement already satisfied: regex>=2022.1.18 in /opt/homebrew/Caskroom/miniconda/base/envs/chatdvv/lib/python3.10/site-packages (from tiktoken<1,>=0.5.2->tavily-python) (2024.5.15)\n",
      "Requirement already satisfied: charset-normalizer<4,>=2 in /opt/homebrew/Caskroom/miniconda/base/envs/chatdvv/lib/python3.10/site-packages (from requests->tavily-python) (3.3.2)\n",
      "Requirement already satisfied: idna<4,>=2.5 in /opt/homebrew/Caskroom/miniconda/base/envs/chatdvv/lib/python3.10/site-packages (from requests->tavily-python) (3.6)\n",
      "Requirement already satisfied: urllib3<3,>=1.21.1 in /opt/homebrew/Caskroom/miniconda/base/envs/chatdvv/lib/python3.10/site-packages (from requests->tavily-python) (2.2.1)\n",
      "Requirement already satisfied: certifi>=2017.4.17 in /opt/homebrew/Caskroom/miniconda/base/envs/chatdvv/lib/python3.10/site-packages (from requests->tavily-python) (2024.2.2)\n"
     ]
    }
   ],
   "source": [
    "!pip install tavily-python"
   ]
  },
  {
   "cell_type": "code",
   "execution_count": 2,
   "metadata": {},
   "outputs": [
    {
     "name": "stdout",
     "output_type": "stream",
     "text": [
      "[]\n"
     ]
    }
   ],
   "source": [
    "from tavily import TavilyClient\n",
    "\n",
    "score = 0.1\n",
    "results = []\n",
    "try:\n",
    "    tavily = TavilyClient(api_key=\"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\")\n",
    "    # response = tavilyClient.search(query=\"Test\", max_results=10, include_raw_content=True)\n",
    "    response = tavily.search(query=\"Testi\")\n",
    "    for result in response['results']:\n",
    "        if result['score'] > score:\n",
    "            results.append(result)\n",
    "    print(results)\n",
    "except Exception as e:\n",
    "    print(f\"Ein Fehler ist aufgetreten: {e}\")"
   ]
  },
  {
   "cell_type": "code",
   "execution_count": 3,
   "metadata": {},
   "outputs": [
    {
     "name": "stdout",
     "output_type": "stream",
     "text": [
      "2023-11-28\n"
     ]
    }
   ],
   "source": [
    "import datetime\n",
    "\n",
    "def format_date_pi(date_str: str) -> str:\n",
    "    day = date_str[8:10]\n",
    "    month = date_str[5:7]\n",
    "    year = date_str[:4]\n",
    "    return f\"{year}-{month}-{day}\"\n",
    "\n",
    "date_str = \"2023-11-28T12:31:30Z\"\n",
    "\n",
    "print(format_date_pi(date_str))"
   ]
  },
  {
   "cell_type": "code",
   "execution_count": 11,
   "metadata": {},
   "outputs": [
    {
     "name": "stdout",
     "output_type": "stream",
     "text": [
      "dict_keys(['Alle', 'Logistik', 'Maritim', 'Rail', 'ÖPNV', 'Industrie'])\n",
      "('THB', 'DVZ', 'DVZT', 'THBT', 'DVZMG', 'DVZM', 'DVZ-Brief')\n",
      "1\n",
      "['Alle', 'Logistik', 'Maritim', 'Rail', 'ÖPNV', 'Industrie']\n",
      "dict_keys(['Alle', 'Logistik', 'Maritim', 'Rail', 'ÖPNV', 'Industrie'])\n"
     ]
    }
   ],
   "source": [
    "PUB_LOG = (\"THB\", \"DVZ\", \"DVZT\", \"THBT\", \"DVZMG\", \"DVZM\", \"DVZ-Brief\")\n",
    "PUB_MAR = (\"THB\", \"THBT\", \"SHF\", \"SHIOF\", \"SPI\", \"NSH\")\n",
    "PUB_RAIL = (\"EI\", \"SD\", \"BM\", \"BAMA\")\n",
    "PUB_OEPNV = (\"RABUS\", \"NAHV\", \"NANA\", \"DNV\")\n",
    "PUB_PI = (\"pi_AuD\", \"pi_PuA\", \"pi_EuE\", \"pi_E20\", \"pi_Industry_Forward\", \"pi_Industrial_Solutions\", \"pi_Next_Technology\", \"pi_\")\n",
    "MARKTBEREICHE = {\"Alle\": None, \"Logistik\": PUB_LOG, \"Maritim\": PUB_MAR, \"Rail\": PUB_RAIL, \"ÖPNV\": PUB_OEPNV, \"Industrie\": PUB_PI}\n",
    "MARKTBEREICHE_LISTE = MARKTBEREICHE.keys()\n",
    "\n",
    "print(MARKTBEREICHE_LISTE)\n",
    "print(MARKTBEREICHE[\"Logistik\"])\n",
    "print(list(MARKTBEREICHE_LISTE).index(\"Logistik\"))\n",
    "print(list(MARKTBEREICHE.keys()))\n",
    "print(MARKTBEREICHE.keys())\n"
   ]
  }
 ],
 "metadata": {
  "kernelspec": {
   "display_name": ".venv",
   "language": "python",
   "name": "python3"
  },
  "language_info": {
   "codemirror_mode": {
    "name": "ipython",
    "version": 3
   },
   "file_extension": ".py",
   "mimetype": "text/x-python",
   "name": "python",
   "nbconvert_exporter": "python",
   "pygments_lexer": "ipython3",
   "version": "3.12.7"
  }
 },
 "nbformat": 4,
 "nbformat_minor": 2
}
